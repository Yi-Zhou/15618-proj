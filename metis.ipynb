{
 "cells": [
  {
   "cell_type": "code",
   "execution_count": 4,
   "metadata": {},
   "outputs": [
    {
     "name": "stdout",
     "output_type": "stream",
     "text": [
      "Makefile           hosts              \u001b[31mpartition\u001b[m\u001b[m          \u001b[31mtoy.sh\u001b[m\u001b[m\r\n",
      "README.md          \u001b[1m\u001b[36mlogs\u001b[m\u001b[m               \u001b[1m\u001b[36mpartition.dSYM\u001b[m\u001b[m     \u001b[31mtoy_test\u001b[m\u001b[m\r\n",
      "\u001b[1m\u001b[36mbuild\u001b[m\u001b[m              metis.ipynb        result.txt\r\n",
      "\u001b[31mchecker.pl\u001b[m\u001b[m         \u001b[1m\u001b[36moutput\u001b[m\u001b[m             rice_noise_0.1.png\r\n",
      "\u001b[1m\u001b[36mdata\u001b[m\u001b[m               output.txt         \u001b[1m\u001b[36msrc\u001b[m\u001b[m\r\n"
     ]
    }
   ],
   "source": [
    "!ls"
   ]
  },
  {
   "cell_type": "code",
   "execution_count": 2,
   "metadata": {},
   "outputs": [],
   "source": [
    "import matplotlib.pyplot as plt\n",
    "import matplotlib.image as mpimg\n",
    "import PIL\n",
    "import numpy as np\n",
    "\n",
    "\n",
    "class Image:\n",
    "    def __init__(self, file, type=\"png\", width=None, height=None):\n",
    "        if type == \"png\":\n",
    "            self.img = mpimg.imread(file)\n",
    "            self.height = len(self.img)\n",
    "            self.width = len(self.img[0])\n",
    "        else:\n",
    "            assert(width != None)\n",
    "            assert(height != None)\n",
    "            self.height = height\n",
    "            self.width = width\n",
    "            self.img = np.zeros([height, width, 3])\n",
    "            with open(file) as f:\n",
    "                lines = f.readlines()\n",
    "            for line in lines:\n",
    "                x, y, color = line.split()\n",
    "#                 print(x, y, color)\n",
    "                self.img[int(x)][int(y)][:] = [1- int(color)] * 3\n",
    "\n",
    "    \n",
    "    def flatten(self):\n",
    "        flat_img = np.zeros([self.height, self.width], dtype=int)\n",
    "        for i in range(self.height):\n",
    "            for j in range(self.width):\n",
    "                if np.all(self.img[i][j])== 0:\n",
    "                    flat_img[i][j] = 1\n",
    "        self.img = flat_img\n",
    "    \n",
    "    def savetxt(self, txt_file):\n",
    "        np.savetxt(txt_file, self.img, delimiter=\" \", fmt='%d')\n",
    "    \n",
    "    def savepng(self, png_file):\n",
    "        plt.axis(\"off\")\n",
    "        plt.tight_layout(pad=0)\n",
    "        plt.margins(0)\n",
    "        plt.gca().xaxis.set_major_locator(plt.NullLocator())\n",
    "        plt.gca().yaxis.set_major_locator(plt.NullLocator())\n",
    "        plt.savefig(png_file, bbox_inches='tight', pad_inches = 0)\n",
    "        \n",
    "    def add_bernouli_noise(self, p):\n",
    "        for i in range(self.height):\n",
    "            for j in range(self.width):\n",
    "                r = np.random.random()\n",
    "                if r < p:\n",
    "                    self.img[i][j] = 1 - self.img[i][j]\n",
    "    \n",
    "    def show(self):\n",
    "        # only work when img is not flattened\n",
    "        self.img = plt.imshow(self.img)\n",
    "                \n",
    "\n",
    "\n",
    "\n"
   ]
  },
  {
   "cell_type": "code",
   "execution_count": 62,
   "metadata": {},
   "outputs": [],
   "source": [
    "# img.saveimg(\"rice.txt\")\n",
    "img = Image(\"rice.png\")\n",
    "img.add_bernouli_noise(0.1)\n",
    "img.flatten()\n",
    "img.savetxt(\"rice.txt\")"
   ]
  },
  {
   "cell_type": "code",
   "execution_count": 8,
   "metadata": {},
   "outputs": [
    {
     "data": {
      "image/png": "[encoded data removed]",
      "text/plain": [
       "<Figure size 432x288 with 1 Axes>"
      ]
     },
     "metadata": {
      "needs_background": "light"
     },
     "output_type": "display_data"
    }
   ],
   "source": [
    "# img.saveimg(\"rice.txt\")\n",
    "# img = Image(\"output/denoised_mandelbrot_4.txt\", type=\"txt\", width=2048, height=2048)\n",
    "img = Image(\"output/denoised_rice_4.txt\", type=\"txt\", width=256, height=256)\n",
    "# img.flatten()\n",
    "# img.add_bernouli_noise(0.1)\n",
    "img.show()\n",
    "# img.savepng(\"rice_noise_0.1.png\")"
   ]
  },
  {
   "cell_type": "code",
   "execution_count": null,
   "metadata": {},
   "outputs": [],
   "source": []
  }
 ],
 "metadata": {
  "kernelspec": {
   "display_name": "Python 3",
   "language": "python",
   "name": "python3"
  },
  "language_info": {
   "codemirror_mode": {
    "name": "ipython",
    "version": 3
   },
   "file_extension": ".py",
   "mimetype": "text/x-python",
   "name": "python",
   "nbconvert_exporter": "python",
   "pygments_lexer": "ipython3",
   "version": "3.6.8"
  }
 },
 "nbformat": 4,
 "nbformat_minor": 2
}
